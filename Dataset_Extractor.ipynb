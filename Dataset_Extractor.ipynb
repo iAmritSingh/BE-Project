{
 "cells": [
  {
   "cell_type": "code",
   "execution_count": 1,
   "id": "fd3b864e",
   "metadata": {},
   "outputs": [],
   "source": [
    "import requests "
   ]
  },
  {
   "cell_type": "code",
   "execution_count": 2,
   "id": "6c0cb190",
   "metadata": {},
   "outputs": [],
   "source": [
    "url = \"https://leetcode.com/graphql\"\n",
    " \n",
    "body = \"\"\"\n",
    "query skillStats($username: String!) {\n",
    "  matchedUser(username: $username) {\n",
    "    tagProblemCounts {\n",
    "      advanced {\n",
    "        tagName\n",
    "        tagSlug\n",
    "        problemsSolved\n",
    "      }\n",
    "      intermediate {\n",
    "        tagName\n",
    "        tagSlug\n",
    "        problemsSolved\n",
    "      }\n",
    "      fundamental {\n",
    "        tagName\n",
    "        tagSlug\n",
    "        problemsSolved\n",
    "      }\n",
    "    }\n",
    "  }\n",
    "}\n",
    "\n",
    "\"\"\"\n",
    "variables = {\"username\": \"iAmritSingh\"}\n",
    "\n",
    " \n",
    "response = requests.get(url=url, json={\"query\": body, \"variables\":variables})\n",
    "r = response.json()\n"
   ]
  },
  {
   "cell_type": "code",
   "execution_count": 3,
   "id": "7f7ffc72",
   "metadata": {},
   "outputs": [
    {
     "name": "stdout",
     "output_type": "stream",
     "text": [
      "{'data': {'matchedUser': {'tagProblemCounts': {'advanced': [{'tagName': 'Game Theory', 'tagSlug': 'game-theory', 'problemsSolved': 2}, {'tagName': 'Backtracking', 'tagSlug': 'backtracking', 'problemsSolved': 12}, {'tagName': 'Quickselect', 'tagSlug': 'quickselect', 'problemsSolved': 1}, {'tagName': 'Dynamic Programming', 'tagSlug': 'dynamic-programming', 'problemsSolved': 46}, {'tagName': 'Divide and Conquer', 'tagSlug': 'divide-and-conquer', 'problemsSolved': 3}, {'tagName': 'Trie', 'tagSlug': 'trie', 'problemsSolved': 2}, {'tagName': 'Union Find', 'tagSlug': 'union-find', 'problemsSolved': 3}, {'tagName': 'Monotonic Stack', 'tagSlug': 'monotonic-stack', 'problemsSolved': 1}, {'tagName': 'Monotonic Queue', 'tagSlug': 'monotonic-queue', 'problemsSolved': 1}, {'tagName': 'Topological Sort', 'tagSlug': 'topological-sort', 'problemsSolved': 2}], 'intermediate': [{'tagName': 'Tree', 'tagSlug': 'tree', 'problemsSolved': 11}, {'tagName': 'Binary Tree', 'tagSlug': 'binary-tree', 'problemsSolved': 10}, {'tagName': 'Hash Table', 'tagSlug': 'hash-table', 'problemsSolved': 38}, {'tagName': 'Graph', 'tagSlug': 'graph', 'problemsSolved': 3}, {'tagName': 'Greedy', 'tagSlug': 'greedy', 'problemsSolved': 30}, {'tagName': 'Binary Search', 'tagSlug': 'binary-search', 'problemsSolved': 26}, {'tagName': 'Depth-First Search', 'tagSlug': 'depth-first-search', 'problemsSolved': 13}, {'tagName': 'Breadth-First Search', 'tagSlug': 'breadth-first-search', 'problemsSolved': 11}, {'tagName': 'Recursion', 'tagSlug': 'recursion', 'problemsSolved': 9}, {'tagName': 'Sliding Window', 'tagSlug': 'sliding-window', 'problemsSolved': 17}, {'tagName': 'Bit Manipulation', 'tagSlug': 'bit-manipulation', 'problemsSolved': 8}, {'tagName': 'Math', 'tagSlug': 'math', 'problemsSolved': 31}, {'tagName': 'Design', 'tagSlug': 'design', 'problemsSolved': 1}, {'tagName': 'Iterator', 'tagSlug': 'iterator', 'problemsSolved': 1}], 'fundamental': [{'tagName': 'Array', 'tagSlug': 'array', 'problemsSolved': 137}, {'tagName': 'Matrix', 'tagSlug': 'matrix', 'problemsSolved': 17}, {'tagName': 'String', 'tagSlug': 'string', 'problemsSolved': 40}, {'tagName': 'Simulation', 'tagSlug': 'simulation', 'problemsSolved': 11}, {'tagName': 'Enumeration', 'tagSlug': 'enumeration', 'problemsSolved': 5}, {'tagName': 'Sorting', 'tagSlug': 'sorting', 'problemsSolved': 27}, {'tagName': 'Stack', 'tagSlug': 'stack', 'problemsSolved': 7}, {'tagName': 'Queue', 'tagSlug': 'queue', 'problemsSolved': 2}, {'tagName': 'Linked List', 'tagSlug': 'linked-list', 'problemsSolved': 3}, {'tagName': 'Two Pointers', 'tagSlug': 'two-pointers', 'problemsSolved': 9}]}}}}\n"
     ]
    }
   ],
   "source": [
    "print(r)"
   ]
  },
  {
   "cell_type": "code",
   "execution_count": 4,
   "id": "b2fe1777",
   "metadata": {},
   "outputs": [],
   "source": [
    "advanced = []\n",
    "intermediate = []\n",
    "fundamental = []"
   ]
  },
  {
   "cell_type": "code",
   "execution_count": 5,
   "id": "1dbab28f",
   "metadata": {},
   "outputs": [],
   "source": [
    "advanced.append(r['data']['matchedUser']['tagProblemCounts']['advanced'])\n",
    "intermediate.append(r['data']['matchedUser']['tagProblemCounts']['intermediate'])\n",
    "fundamental.append(r['data']['matchedUser']['tagProblemCounts']['fundamental'])"
   ]
  },
  {
   "cell_type": "code",
   "execution_count": 6,
   "id": "2a66245b",
   "metadata": {},
   "outputs": [
    {
     "name": "stdout",
     "output_type": "stream",
     "text": [
      "[[{'tagName': 'Game Theory', 'tagSlug': 'game-theory', 'problemsSolved': 2}, {'tagName': 'Backtracking', 'tagSlug': 'backtracking', 'problemsSolved': 12}, {'tagName': 'Quickselect', 'tagSlug': 'quickselect', 'problemsSolved': 1}, {'tagName': 'Dynamic Programming', 'tagSlug': 'dynamic-programming', 'problemsSolved': 46}, {'tagName': 'Divide and Conquer', 'tagSlug': 'divide-and-conquer', 'problemsSolved': 3}, {'tagName': 'Trie', 'tagSlug': 'trie', 'problemsSolved': 2}, {'tagName': 'Union Find', 'tagSlug': 'union-find', 'problemsSolved': 3}, {'tagName': 'Monotonic Stack', 'tagSlug': 'monotonic-stack', 'problemsSolved': 1}, {'tagName': 'Monotonic Queue', 'tagSlug': 'monotonic-queue', 'problemsSolved': 1}, {'tagName': 'Topological Sort', 'tagSlug': 'topological-sort', 'problemsSolved': 2}]]\n",
      "[[{'tagName': 'Tree', 'tagSlug': 'tree', 'problemsSolved': 11}, {'tagName': 'Binary Tree', 'tagSlug': 'binary-tree', 'problemsSolved': 10}, {'tagName': 'Hash Table', 'tagSlug': 'hash-table', 'problemsSolved': 38}, {'tagName': 'Graph', 'tagSlug': 'graph', 'problemsSolved': 3}, {'tagName': 'Greedy', 'tagSlug': 'greedy', 'problemsSolved': 30}, {'tagName': 'Binary Search', 'tagSlug': 'binary-search', 'problemsSolved': 26}, {'tagName': 'Depth-First Search', 'tagSlug': 'depth-first-search', 'problemsSolved': 13}, {'tagName': 'Breadth-First Search', 'tagSlug': 'breadth-first-search', 'problemsSolved': 11}, {'tagName': 'Recursion', 'tagSlug': 'recursion', 'problemsSolved': 9}, {'tagName': 'Sliding Window', 'tagSlug': 'sliding-window', 'problemsSolved': 17}, {'tagName': 'Bit Manipulation', 'tagSlug': 'bit-manipulation', 'problemsSolved': 8}, {'tagName': 'Math', 'tagSlug': 'math', 'problemsSolved': 31}, {'tagName': 'Design', 'tagSlug': 'design', 'problemsSolved': 1}, {'tagName': 'Iterator', 'tagSlug': 'iterator', 'problemsSolved': 1}]]\n",
      "[[{'tagName': 'Array', 'tagSlug': 'array', 'problemsSolved': 137}, {'tagName': 'Matrix', 'tagSlug': 'matrix', 'problemsSolved': 17}, {'tagName': 'String', 'tagSlug': 'string', 'problemsSolved': 40}, {'tagName': 'Simulation', 'tagSlug': 'simulation', 'problemsSolved': 11}, {'tagName': 'Enumeration', 'tagSlug': 'enumeration', 'problemsSolved': 5}, {'tagName': 'Sorting', 'tagSlug': 'sorting', 'problemsSolved': 27}, {'tagName': 'Stack', 'tagSlug': 'stack', 'problemsSolved': 7}, {'tagName': 'Queue', 'tagSlug': 'queue', 'problemsSolved': 2}, {'tagName': 'Linked List', 'tagSlug': 'linked-list', 'problemsSolved': 3}, {'tagName': 'Two Pointers', 'tagSlug': 'two-pointers', 'problemsSolved': 9}]]\n"
     ]
    },
    {
     "data": {
      "text/plain": [
       "list"
      ]
     },
     "execution_count": 6,
     "metadata": {},
     "output_type": "execute_result"
    }
   ],
   "source": [
    "print(advanced)\n",
    "print(intermediate)\n",
    "print(fundamental)\n",
    "type(advanced)"
   ]
  },
  {
   "cell_type": "code",
   "execution_count": 7,
   "id": "e81724f1",
   "metadata": {},
   "outputs": [],
   "source": [
    "\n",
    "dict = {'advanced': advanced, 'intermediate': intermediate, 'fundamental': fundamental}"
   ]
  },
  {
   "cell_type": "code",
   "execution_count": 8,
   "id": "c77f2213",
   "metadata": {},
   "outputs": [],
   "source": [
    "import pandas as pd\n",
    "df = pd.DataFrame(dict)"
   ]
  },
  {
   "cell_type": "code",
   "execution_count": 9,
   "id": "71950889",
   "metadata": {},
   "outputs": [
    {
     "name": "stdout",
     "output_type": "stream",
     "text": [
      "                                            advanced  \\\n",
      "0  [{'tagName': 'Game Theory', 'tagSlug': 'game-t...   \n",
      "\n",
      "                                        intermediate  \\\n",
      "0  [{'tagName': 'Tree', 'tagSlug': 'tree', 'probl...   \n",
      "\n",
      "                                         fundamental  \n",
      "0  [{'tagName': 'Array', 'tagSlug': 'array', 'pro...  \n"
     ]
    }
   ],
   "source": [
    "print(df)"
   ]
  },
  {
   "cell_type": "code",
   "execution_count": 10,
   "id": "91d83bea",
   "metadata": {},
   "outputs": [],
   "source": [
    "df.to_csv('Leetcode.csv')"
   ]
  }
 ],
 "metadata": {
  "kernelspec": {
   "display_name": "Python 3 (ipykernel)",
   "language": "python",
   "name": "python3"
  },
  "language_info": {
   "codemirror_mode": {
    "name": "ipython",
    "version": 3
   },
   "file_extension": ".py",
   "mimetype": "text/x-python",
   "name": "python",
   "nbconvert_exporter": "python",
   "pygments_lexer": "ipython3",
   "version": "3.10.12"
  }
 },
 "nbformat": 4,
 "nbformat_minor": 5
}
