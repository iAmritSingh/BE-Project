{
 "cells": [
  {
   "cell_type": "code",
   "execution_count": 156,
   "id": "fd3b864e",
   "metadata": {},
   "outputs": [],
   "source": [
    "import requests "
   ]
  },
  {
   "cell_type": "code",
   "execution_count": 157,
   "id": "30e50e64",
   "metadata": {},
   "outputs": [],
   "source": [
    "language_query = \"\"\"\n",
    "query languageStats($username: String!) {\n",
    "  matchedUser(username: $username) {\n",
    "    languageProblemCount {\n",
    "      languageName\n",
    "      # problemsSolved\n",
    "    }\n",
    "  }\n",
    "}\n",
    "\"\"\""
   ]
  },
  {
   "cell_type": "code",
   "execution_count": null,
   "id": "cbc9da83",
   "metadata": {},
   "outputs": [],
   "source": []
  },
  {
   "cell_type": "code",
   "execution_count": 158,
   "id": "7c524051",
   "metadata": {},
   "outputs": [],
   "source": [
    "problemSolvedQuery = \"\"\"\n",
    "query userProblemsSolved($username: String!) {\n",
    "  matchedUser(username: $username) {\n",
    "    submitStatsGlobal {\n",
    "      acSubmissionNum {\n",
    "        difficulty\n",
    "        count\n",
    "      }\n",
    "    }\n",
    "  }\n",
    "}\n",
    "\"\"\""
   ]
  },
  {
   "cell_type": "code",
   "execution_count": 159,
   "id": "4bc57f9a",
   "metadata": {},
   "outputs": [],
   "source": [
    "contestRanking = \"\"\"\n",
    "query userContestRankingInfo($username: String!) {\n",
    "  userContestRanking(username: $username) {\n",
    "    \n",
    "    rating\n",
    "    globalRanking\n",
    "    \n",
    "  }\n",
    " \n",
    "}\n",
    "\"\"\""
   ]
  },
  {
   "cell_type": "code",
   "execution_count": 160,
   "id": "6c0cb190",
   "metadata": {},
   "outputs": [],
   "source": [
    "url = \"https://leetcode.com/graphql\"\n",
    " \n",
    "body = \"\"\"\n",
    "query skillStats($username: String!) {\n",
    "  matchedUser(username: $username) {\n",
    "    tagProblemCounts {\n",
    "      advanced {\n",
    "        tagName\n",
    "        tagSlug\n",
    "        problemsSolved\n",
    "      }\n",
    "      intermediate {\n",
    "        tagName\n",
    "        tagSlug\n",
    "        problemsSolved\n",
    "      }\n",
    "      fundamental {\n",
    "        tagName\n",
    "        tagSlug\n",
    "        problemsSolved\n",
    "      }\n",
    "    }\n",
    "  }\n",
    "}\n",
    "\n",
    "\"\"\"\n",
    "variables = {\"username\": \"iAmritSingh\"}\n",
    "\n",
    " \n",
    "\n"
   ]
  },
  {
   "cell_type": "code",
   "execution_count": 161,
   "id": "b2fe1777",
   "metadata": {},
   "outputs": [],
   "source": [
    "advanced = []\n",
    "intermediate = []\n",
    "fundamental = []\n",
    "languages = []"
   ]
  },
  {
   "cell_type": "code",
   "execution_count": 162,
   "id": "7f7ffc72",
   "metadata": {},
   "outputs": [
    {
     "name": "stdout",
     "output_type": "stream",
     "text": [
      "['C++']\n"
     ]
    }
   ],
   "source": [
    "response = requests.get(url=url, json={\"query\": language_query, \"variables\":variables})\n",
    "r = response.json()\n",
    "r = (r['data']['matchedUser']['languageProblemCount'])\n",
    "for i in r:\n",
    "    languages.append(i['languageName'])\n",
    "print(languages)\n"
   ]
  },
  {
   "cell_type": "code",
   "execution_count": 163,
   "id": "dcdefebf",
   "metadata": {},
   "outputs": [
    {
     "name": "stdout",
     "output_type": "stream",
     "text": [
      "206\n",
      "52\n",
      "138\n",
      "16\n"
     ]
    }
   ],
   "source": [
    "response = requests.get(url=url, json={\"query\": problemSolvedQuery, \"variables\":variables})\n",
    "r = response.json()\n",
    "total = (r['data']['matchedUser']['submitStatsGlobal']['acSubmissionNum'][0]['count'])\n",
    "easy = (r['data']['matchedUser']['submitStatsGlobal']['acSubmissionNum'][1]['count'])\n",
    "medium = (r['data']['matchedUser']['submitStatsGlobal']['acSubmissionNum'][2]['count'])\n",
    "hard = (r['data']['matchedUser']['submitStatsGlobal']['acSubmissionNum'][3]['count'])\n",
    "print(total)\n",
    "print(easy)\n",
    "print(medium)\n",
    "print(hard)"
   ]
  },
  {
   "cell_type": "code",
   "execution_count": 164,
   "id": "43b811d3",
   "metadata": {},
   "outputs": [
    {
     "name": "stdout",
     "output_type": "stream",
     "text": [
      "1571.2474780288974\n",
      "126254\n"
     ]
    }
   ],
   "source": [
    "response = requests.get(url=url, json={\"query\": contestRanking, \"variables\":variables})\n",
    "r = response.json()\n",
    "rating = (r['data']['userContestRanking']['rating'])\n",
    "globalRanking = r['data']['userContestRanking']['globalRanking']\n",
    "print(rating)\n",
    "print(globalRanking)\n"
   ]
  },
  {
   "cell_type": "code",
   "execution_count": 165,
   "id": "8491c525",
   "metadata": {},
   "outputs": [
    {
     "name": "stdout",
     "output_type": "stream",
     "text": [
      "{'data': {'matchedUser': {'tagProblemCounts': {'advanced': [{'tagName': 'Game Theory', 'tagSlug': 'game-theory', 'problemsSolved': 2}, {'tagName': 'Backtracking', 'tagSlug': 'backtracking', 'problemsSolved': 12}, {'tagName': 'Quickselect', 'tagSlug': 'quickselect', 'problemsSolved': 1}, {'tagName': 'Dynamic Programming', 'tagSlug': 'dynamic-programming', 'problemsSolved': 46}, {'tagName': 'Divide and Conquer', 'tagSlug': 'divide-and-conquer', 'problemsSolved': 3}, {'tagName': 'Trie', 'tagSlug': 'trie', 'problemsSolved': 2}, {'tagName': 'Union Find', 'tagSlug': 'union-find', 'problemsSolved': 3}, {'tagName': 'Monotonic Stack', 'tagSlug': 'monotonic-stack', 'problemsSolved': 1}, {'tagName': 'Monotonic Queue', 'tagSlug': 'monotonic-queue', 'problemsSolved': 1}, {'tagName': 'Topological Sort', 'tagSlug': 'topological-sort', 'problemsSolved': 2}], 'intermediate': [{'tagName': 'Tree', 'tagSlug': 'tree', 'problemsSolved': 11}, {'tagName': 'Binary Tree', 'tagSlug': 'binary-tree', 'problemsSolved': 10}, {'tagName': 'Hash Table', 'tagSlug': 'hash-table', 'problemsSolved': 38}, {'tagName': 'Graph', 'tagSlug': 'graph', 'problemsSolved': 3}, {'tagName': 'Greedy', 'tagSlug': 'greedy', 'problemsSolved': 30}, {'tagName': 'Binary Search', 'tagSlug': 'binary-search', 'problemsSolved': 26}, {'tagName': 'Depth-First Search', 'tagSlug': 'depth-first-search', 'problemsSolved': 13}, {'tagName': 'Breadth-First Search', 'tagSlug': 'breadth-first-search', 'problemsSolved': 11}, {'tagName': 'Recursion', 'tagSlug': 'recursion', 'problemsSolved': 9}, {'tagName': 'Sliding Window', 'tagSlug': 'sliding-window', 'problemsSolved': 17}, {'tagName': 'Bit Manipulation', 'tagSlug': 'bit-manipulation', 'problemsSolved': 8}, {'tagName': 'Math', 'tagSlug': 'math', 'problemsSolved': 31}, {'tagName': 'Design', 'tagSlug': 'design', 'problemsSolved': 1}, {'tagName': 'Iterator', 'tagSlug': 'iterator', 'problemsSolved': 1}], 'fundamental': [{'tagName': 'Array', 'tagSlug': 'array', 'problemsSolved': 137}, {'tagName': 'Matrix', 'tagSlug': 'matrix', 'problemsSolved': 17}, {'tagName': 'String', 'tagSlug': 'string', 'problemsSolved': 40}, {'tagName': 'Simulation', 'tagSlug': 'simulation', 'problemsSolved': 11}, {'tagName': 'Enumeration', 'tagSlug': 'enumeration', 'problemsSolved': 5}, {'tagName': 'Sorting', 'tagSlug': 'sorting', 'problemsSolved': 27}, {'tagName': 'Stack', 'tagSlug': 'stack', 'problemsSolved': 7}, {'tagName': 'Queue', 'tagSlug': 'queue', 'problemsSolved': 2}, {'tagName': 'Linked List', 'tagSlug': 'linked-list', 'problemsSolved': 3}, {'tagName': 'Two Pointers', 'tagSlug': 'two-pointers', 'problemsSolved': 9}]}}}}\n"
     ]
    }
   ],
   "source": [
    "response = requests.get(url=url, json={\"query\": body, \"variables\":variables})\n",
    "r = response.json()\n",
    "print(r)"
   ]
  },
  {
   "cell_type": "code",
   "execution_count": 166,
   "id": "1dbab28f",
   "metadata": {},
   "outputs": [],
   "source": [
    "advanced.append(r['data']['matchedUser']['tagProblemCounts']['advanced'])\n",
    "intermediate.append(r['data']['matchedUser']['tagProblemCounts']['intermediate'])\n",
    "fundamental.append(r['data']['matchedUser']['tagProblemCounts']['fundamental'])"
   ]
  },
  {
   "cell_type": "code",
   "execution_count": 167,
   "id": "2a66245b",
   "metadata": {},
   "outputs": [
    {
     "name": "stdout",
     "output_type": "stream",
     "text": [
      "[[{'tagName': 'Game Theory', 'tagSlug': 'game-theory', 'problemsSolved': 2}, {'tagName': 'Backtracking', 'tagSlug': 'backtracking', 'problemsSolved': 12}, {'tagName': 'Quickselect', 'tagSlug': 'quickselect', 'problemsSolved': 1}, {'tagName': 'Dynamic Programming', 'tagSlug': 'dynamic-programming', 'problemsSolved': 46}, {'tagName': 'Divide and Conquer', 'tagSlug': 'divide-and-conquer', 'problemsSolved': 3}, {'tagName': 'Trie', 'tagSlug': 'trie', 'problemsSolved': 2}, {'tagName': 'Union Find', 'tagSlug': 'union-find', 'problemsSolved': 3}, {'tagName': 'Monotonic Stack', 'tagSlug': 'monotonic-stack', 'problemsSolved': 1}, {'tagName': 'Monotonic Queue', 'tagSlug': 'monotonic-queue', 'problemsSolved': 1}, {'tagName': 'Topological Sort', 'tagSlug': 'topological-sort', 'problemsSolved': 2}]]\n",
      "[[{'tagName': 'Tree', 'tagSlug': 'tree', 'problemsSolved': 11}, {'tagName': 'Binary Tree', 'tagSlug': 'binary-tree', 'problemsSolved': 10}, {'tagName': 'Hash Table', 'tagSlug': 'hash-table', 'problemsSolved': 38}, {'tagName': 'Graph', 'tagSlug': 'graph', 'problemsSolved': 3}, {'tagName': 'Greedy', 'tagSlug': 'greedy', 'problemsSolved': 30}, {'tagName': 'Binary Search', 'tagSlug': 'binary-search', 'problemsSolved': 26}, {'tagName': 'Depth-First Search', 'tagSlug': 'depth-first-search', 'problemsSolved': 13}, {'tagName': 'Breadth-First Search', 'tagSlug': 'breadth-first-search', 'problemsSolved': 11}, {'tagName': 'Recursion', 'tagSlug': 'recursion', 'problemsSolved': 9}, {'tagName': 'Sliding Window', 'tagSlug': 'sliding-window', 'problemsSolved': 17}, {'tagName': 'Bit Manipulation', 'tagSlug': 'bit-manipulation', 'problemsSolved': 8}, {'tagName': 'Math', 'tagSlug': 'math', 'problemsSolved': 31}, {'tagName': 'Design', 'tagSlug': 'design', 'problemsSolved': 1}, {'tagName': 'Iterator', 'tagSlug': 'iterator', 'problemsSolved': 1}]]\n",
      "[[{'tagName': 'Array', 'tagSlug': 'array', 'problemsSolved': 137}, {'tagName': 'Matrix', 'tagSlug': 'matrix', 'problemsSolved': 17}, {'tagName': 'String', 'tagSlug': 'string', 'problemsSolved': 40}, {'tagName': 'Simulation', 'tagSlug': 'simulation', 'problemsSolved': 11}, {'tagName': 'Enumeration', 'tagSlug': 'enumeration', 'problemsSolved': 5}, {'tagName': 'Sorting', 'tagSlug': 'sorting', 'problemsSolved': 27}, {'tagName': 'Stack', 'tagSlug': 'stack', 'problemsSolved': 7}, {'tagName': 'Queue', 'tagSlug': 'queue', 'problemsSolved': 2}, {'tagName': 'Linked List', 'tagSlug': 'linked-list', 'problemsSolved': 3}, {'tagName': 'Two Pointers', 'tagSlug': 'two-pointers', 'problemsSolved': 9}]]\n"
     ]
    },
    {
     "data": {
      "text/plain": [
       "list"
      ]
     },
     "execution_count": 167,
     "metadata": {},
     "output_type": "execute_result"
    }
   ],
   "source": [
    "print(advanced)\n",
    "print(intermediate)\n",
    "print(fundamental)\n",
    "type(advanced)"
   ]
  },
  {
   "cell_type": "code",
   "execution_count": 168,
   "id": "e81724f1",
   "metadata": {},
   "outputs": [],
   "source": [
    "\n",
    "dict = {'total':total,'easy':easy,'medium':medium,'hard':hard,'rating':rating,'languages':languages,'ranking':globalRanking,'advanced': advanced, 'intermediate': intermediate, 'fundamental': fundamental}"
   ]
  },
  {
   "cell_type": "code",
   "execution_count": 169,
   "id": "c77f2213",
   "metadata": {},
   "outputs": [],
   "source": [
    "# import pandas as pd\n",
    "# df = pd.DataFrame(dict)"
   ]
  },
  {
   "cell_type": "code",
   "execution_count": 170,
   "id": "71950889",
   "metadata": {},
   "outputs": [
    {
     "name": "stdout",
     "output_type": "stream",
     "text": [
      "   total  easy  medium  hard       rating languages  ranking  \\\n",
      "0    206    52     138    16  1571.247478       C++   126254   \n",
      "\n",
      "                                            advanced  \\\n",
      "0  [{'tagName': 'Game Theory', 'tagSlug': 'game-t...   \n",
      "\n",
      "                                        intermediate  \\\n",
      "0  [{'tagName': 'Tree', 'tagSlug': 'tree', 'probl...   \n",
      "\n",
      "                                         fundamental  \n",
      "0  [{'tagName': 'Array', 'tagSlug': 'array', 'pro...  \n"
     ]
    }
   ],
   "source": [
    "# print(df)"
   ]
  },
  {
   "cell_type": "code",
   "execution_count": 171,
   "id": "91d83bea",
   "metadata": {},
   "outputs": [],
   "source": [
    "# df.to_csv('Leetcode.csv')"
   ]
  },
  {
   "cell_type": "code",
   "execution_count": 172,
   "id": "19240b31",
   "metadata": {},
   "outputs": [],
   "source": [
    "from csv import DictWriter\n",
    "\n",
    "\n",
    "# Import DictWriter class from CSV module\n",
    "from csv import DictWriter\n",
    " \n",
    "# list of column names\n",
    "field_names = ['total','easy','medium','hard','rating','languages','ranking','advanced', 'intermediate', 'fundamental']"
   ]
  },
  {
   "cell_type": "code",
   "execution_count": 174,
   "id": "b79b6b89",
   "metadata": {},
   "outputs": [
    {
     "name": "stdout",
     "output_type": "stream",
     "text": [
      "sudhanshu_090\n",
      "aryansharma1606\n",
      "mahadevwardule17\n",
      "jamshedmd1111\n",
      "Beyonder19\n",
      "withaarzoo\n",
      "anwendeng\n",
      "Zeeshan_2512\n",
      "sgallivan\n",
      "uwi\n",
      "devanshpareek\n",
      "Mandar800\n",
      "mandarmulay\n",
      "shadowfax\n",
      "Aditi_06\n",
      "aditigarg_28\n",
      "aditisingh23\n",
      "Aditi_\n",
      "Rohanfizz\n",
      "ROHANCODEIT\n",
      "Rohan1505\n",
      "rohanb459\n",
      "Kumari_Sunanda\n",
      "SunandiniM1509\n",
      "spandan611\n",
      "venkatasaitanish\n",
      "Tan_B\n",
      "tanishq_1306\n",
      "tanisha155\n",
      "taniishaajain\n",
      "tanishq1g\n",
      "Tanish_K_\n",
      "tanish27bansal\n",
      "tanishqsinghai11\n",
      "tanishsingla13390\n",
      "Harshkriplani\n",
      "HarshTekriwal\n",
      "harsh-98\n",
      "harshshah949494\n",
      "Harsh23Kashyap\n",
      "harsh_0412\n",
      "void_harsh\n",
      "kharsh032\n",
      "suhani\n",
      "jainmanisha3007\n",
      "129ms\n",
      "SuhaniShah\n",
      "071_Prashant\n",
      "prashant_nk\n",
      "Prashantpx\n",
      "prashant2611\n",
      "prashanthr6789\n",
      "prashant-31\n",
      "prashant93y\n",
      "Prashant06\n",
      "Prashant-07\n",
      "prashantkumarsingh9423\n",
      "prashant_00\n",
      "Prashant-Yadav\n",
      "prashantkr\n",
      "prashant_sriv\n",
      "sainyamangral18\n",
      "abhaybhat86\n",
      "officialaadeesh76\n",
      "sunandangupta\n",
      "piyushag\n",
      "Sithis\n",
      "akki4497\n",
      "shubhi17195\n",
      "vivekthedev\n",
      "MarkSPhilip31\n",
      "anwendeng\n",
      "lancertech6\n",
      "Sanket_Deshmukh_07\n",
      "Spaulding_\n",
      "heroes3001\n",
      "user0517qU\n",
      "abdelazizSalah\n",
      "Khosiyat\n",
      "adwxith\n",
      "Aman_Raj_Sinha\n",
      "withaarzoo\n",
      "azad786\n",
      "mjgallag\n",
      "noy25\n",
      "Apophis29\n",
      "Vivekkrsk\n",
      "Ahmad_Ouda\n",
      "Motaharozzaman1996\n",
      "judgementdey\n",
      "anushriphate\n"
     ]
    }
   ],
   "source": [
    "usernames = ['sudhanshu_090' ,'aryansharma1606','mahadevwardule17','jamshedmd1111','Beyonder19','withaarzoo',\n",
    "'anwendeng','Zeeshan_2512',\n",
    "'sgallivan' ,\n",
    "'uwi',\n",
    "'devanshpareek' ,\n",
    "'Mandar800' ,\n",
    "'mandarmulay' ,\n",
    "'shadowfax' ,\n",
    "'Aditi_06' ,\n",
    "'aditigarg_28' ,\n",
    "'aditisingh23' ,\n",
    "'Aditi_' ,\n",
    "'Rohanfizz' ,\n",
    "'ROHANCODEIT',\n",
    "'Rohan1505' ,\n",
    "'rohanb459' ,\n",
    "'Kumari_Sunanda' ,\n",
    "'SunandiniM1509' ,\n",
    "'spandan611' ,\n",
    "'venkatasaitanish' ,\n",
    "'Tan_B' ,\n",
    "'tanishq_1306' ,\n",
    "'tanisha155' ,\n",
    "'taniishaajain' ,\n",
    "'tanishq1g' ,\n",
    "'Tanish_K_' ,\n",
    "'tanish27bansal' ,\n",
    "'tanishqsinghai11' ,\n",
    "'tanishsingla13390',\n",
    "'Harshkriplani',\n",
    "'HarshTekriwal',\n",
    "'harsh-98',\n",
    "'harshshah949494',\n",
    "'Harsh23Kashyap' ,\n",
    "'harsh_0412' ,\n",
    "'void_harsh' ,\n",
    "'kharsh032' ,\n",
    "'suhani',\n",
    "'jainmanisha3007',\n",
    "'129ms',\n",
    "'SuhaniShah',\n",
    "'071_Prashant' ,\n",
    "'prashant_nk' ,\n",
    "\n",
    "'Prashantpx' ,\n",
    "'prashant2611',\n",
    "'prashanthr6789',\n",
    "'prashant-31',\n",
    "'prashant93y',\n",
    "'Prashant06',\n",
    "'Prashant-07',\n",
    "'prashantkumarsingh9423',\n",
    "'prashant_00',\n",
    "'Prashant-Yadav',\n",
    "'prashantkr',\n",
    "'prashant_sriv',\n",
    "'sainyamangral18',\n",
    "'abhaybhat86',\n",
    "'officialaadeesh76',\n",
    "'sunandangupta',\n",
    "'piyushag',\n",
    "'Sithis',\n",
    "'akki4497',\n",
    "'shubhi17195',\n",
    "'vivekthedev',\n",
    "'MarkSPhilip31',\n",
    "'anwendeng',\n",
    "'lancertech6',\n",
    "'Sanket_Deshmukh_07',\n",
    "'Spaulding_',\n",
    "'heroes3001',\n",
    "'user0517qU',\n",
    "'abdelazizSalah',\n",
    "'Khosiyat',\n",
    "'adwxith',\n",
    "'Aman_Raj_Sinha',\n",
    "'withaarzoo',\n",
    "'azad786',\n",
    "'mjgallag',\n",
    "'noy25',\n",
    "'Apophis29',\n",
    "'Vivekkrsk',\n",
    "'Ahmad_Ouda',\n",
    "'Motaharozzaman1996',\n",
    "'judgementdey',\n",
    "'anushriphate'\n",
    "]\n",
    "for i in usernames:\n",
    "    print(i)\n",
    "    variables = {\"username\": i}\n",
    "    advanced = []\n",
    "    intermediate = []\n",
    "    fundamental = []\n",
    "    languages = []\n",
    "    response = requests.get(url=url, json={\"query\": language_query, \"variables\":variables})\n",
    "    r = response.json()\n",
    "    r = (r['data']['matchedUser']['languageProblemCount'])\n",
    "    for ir in r:\n",
    "        languages.append(ir['languageName'])\n",
    "    response = requests.get(url=url, json={\"query\": problemSolvedQuery, \"variables\":variables})\n",
    "    r = response.json()\n",
    "    total = 0\n",
    "    easy = 0\n",
    "    medium = 0\n",
    "    hard = 0\n",
    "    rating = 0\n",
    "    globalRanking = 0\n",
    "    total = (r['data']['matchedUser']['submitStatsGlobal']['acSubmissionNum'][0]['count'])\n",
    "    easy = (r['data']['matchedUser']['submitStatsGlobal']['acSubmissionNum'][1]['count'])\n",
    "    medium = (r['data']['matchedUser']['submitStatsGlobal']['acSubmissionNum'][2]['count'])\n",
    "    hard = (r['data']['matchedUser']['submitStatsGlobal']['acSubmissionNum'][3]['count'])\n",
    "    response = requests.get(url=url, json={\"query\": contestRanking, \"variables\":variables})\n",
    "    r = response.json()\n",
    "    if(r['data']['userContestRanking']):\n",
    "        rating = (r['data']['userContestRanking']['rating'])\n",
    "        globalRanking = r['data']['userContestRanking']['globalRanking']\n",
    "    response = requests.get(url=url, json={\"query\": body, \"variables\":variables})\n",
    "    r = response.json()\n",
    "    advanced.append(r['data']['matchedUser']['tagProblemCounts']['advanced'])\n",
    "    intermediate.append(r['data']['matchedUser']['tagProblemCounts']['intermediate'])\n",
    "    fundamental.append(r['data']['matchedUser']['tagProblemCounts']['fundamental'])\n",
    "\n",
    "\n",
    "    dict = {'total':total,'easy':easy,'medium':medium,'hard':hard,'rating':rating,'languages':languages,'ranking':globalRanking,'advanced': advanced, 'intermediate': intermediate, 'fundamental': fundamental}\n",
    "\n",
    "    with open('Leetcode.csv', 'a') as f_object:\n",
    " \n",
    "        dictwriter_object = DictWriter(f_object, fieldnames=field_names)\n",
    " \n",
    "  \n",
    "        dictwriter_object.writerow(dict)\n",
    " \n",
    "  \n",
    "        f_object.close()\n",
    "    \n"
   ]
  },
  {
   "cell_type": "code",
   "execution_count": null,
   "id": "2440fa4d",
   "metadata": {},
   "outputs": [],
   "source": []
  }
 ],
 "metadata": {
  "kernelspec": {
   "display_name": "Python 3 (ipykernel)",
   "language": "python",
   "name": "python3"
  },
  "language_info": {
   "codemirror_mode": {
    "name": "ipython",
    "version": 3
   },
   "file_extension": ".py",
   "mimetype": "text/x-python",
   "name": "python",
   "nbconvert_exporter": "python",
   "pygments_lexer": "ipython3",
   "version": "3.10.12"
  }
 },
 "nbformat": 4,
 "nbformat_minor": 5
}
