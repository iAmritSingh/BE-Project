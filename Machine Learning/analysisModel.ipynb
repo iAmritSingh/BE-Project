{
 "cells": [
  {
   "cell_type": "code",
   "execution_count": 29,
   "metadata": {},
   "outputs": [],
   "source": [
    "import numpy as nm;\n",
    "import pandas as pd;\n"
   ]
  },
  {
   "cell_type": "code",
   "execution_count": 30,
   "metadata": {},
   "outputs": [],
   "source": [
    "dataset = pd.read_csv('Leetcode.csv')"
   ]
  },
  {
   "cell_type": "code",
   "execution_count": 31,
   "metadata": {},
   "outputs": [
    {
     "data": {
      "text/html": [
       "<div>\n",
       "<style scoped>\n",
       "    .dataframe tbody tr th:only-of-type {\n",
       "        vertical-align: middle;\n",
       "    }\n",
       "\n",
       "    .dataframe tbody tr th {\n",
       "        vertical-align: top;\n",
       "    }\n",
       "\n",
       "    .dataframe thead th {\n",
       "        text-align: right;\n",
       "    }\n",
       "</style>\n",
       "<table border=\"1\" class=\"dataframe\">\n",
       "  <thead>\n",
       "    <tr style=\"text-align: right;\">\n",
       "      <th></th>\n",
       "      <th>username</th>\n",
       "      <th>total</th>\n",
       "      <th>easy</th>\n",
       "      <th>medium</th>\n",
       "      <th>hard</th>\n",
       "      <th>rating</th>\n",
       "      <th>C++</th>\n",
       "      <th>Java</th>\n",
       "      <th>Python</th>\n",
       "      <th>Python3</th>\n",
       "      <th>...</th>\n",
       "      <th>Reservoir Sampling</th>\n",
       "      <th>Strongly Connected Component</th>\n",
       "      <th>Eulerian Circuit</th>\n",
       "      <th>Radix Sort</th>\n",
       "      <th>Rejection Sampling</th>\n",
       "      <th>Biconnected Component</th>\n",
       "      <th>contestAttended</th>\n",
       "      <th>streak</th>\n",
       "      <th>totalActiveDays</th>\n",
       "      <th>OurRating</th>\n",
       "    </tr>\n",
       "  </thead>\n",
       "  <tbody>\n",
       "    <tr>\n",
       "      <th>0</th>\n",
       "      <td>sudhanshu_090</td>\n",
       "      <td>561</td>\n",
       "      <td>181</td>\n",
       "      <td>334</td>\n",
       "      <td>46</td>\n",
       "      <td>2100.37400</td>\n",
       "      <td>1</td>\n",
       "      <td>1</td>\n",
       "      <td>0</td>\n",
       "      <td>0</td>\n",
       "      <td>...</td>\n",
       "      <td>0</td>\n",
       "      <td>0</td>\n",
       "      <td>0</td>\n",
       "      <td>0</td>\n",
       "      <td>0</td>\n",
       "      <td>0</td>\n",
       "      <td>32</td>\n",
       "      <td>18</td>\n",
       "      <td>114</td>\n",
       "      <td>0</td>\n",
       "    </tr>\n",
       "    <tr>\n",
       "      <th>1</th>\n",
       "      <td>aryansharma1606</td>\n",
       "      <td>426</td>\n",
       "      <td>155</td>\n",
       "      <td>226</td>\n",
       "      <td>45</td>\n",
       "      <td>1509.48800</td>\n",
       "      <td>1</td>\n",
       "      <td>1</td>\n",
       "      <td>0</td>\n",
       "      <td>0</td>\n",
       "      <td>...</td>\n",
       "      <td>0</td>\n",
       "      <td>0</td>\n",
       "      <td>0</td>\n",
       "      <td>0</td>\n",
       "      <td>0</td>\n",
       "      <td>0</td>\n",
       "      <td>11</td>\n",
       "      <td>0</td>\n",
       "      <td>0</td>\n",
       "      <td>0</td>\n",
       "    </tr>\n",
       "    <tr>\n",
       "      <th>2</th>\n",
       "      <td>mahadevwardule17</td>\n",
       "      <td>581</td>\n",
       "      <td>165</td>\n",
       "      <td>333</td>\n",
       "      <td>83</td>\n",
       "      <td>2045.53146</td>\n",
       "      <td>1</td>\n",
       "      <td>1</td>\n",
       "      <td>0</td>\n",
       "      <td>0</td>\n",
       "      <td>...</td>\n",
       "      <td>0</td>\n",
       "      <td>0</td>\n",
       "      <td>0</td>\n",
       "      <td>0</td>\n",
       "      <td>0</td>\n",
       "      <td>0</td>\n",
       "      <td>47</td>\n",
       "      <td>11</td>\n",
       "      <td>156</td>\n",
       "      <td>0</td>\n",
       "    </tr>\n",
       "    <tr>\n",
       "      <th>3</th>\n",
       "      <td>jamshedmd1111</td>\n",
       "      <td>321</td>\n",
       "      <td>89</td>\n",
       "      <td>166</td>\n",
       "      <td>66</td>\n",
       "      <td>2623.66600</td>\n",
       "      <td>1</td>\n",
       "      <td>0</td>\n",
       "      <td>0</td>\n",
       "      <td>0</td>\n",
       "      <td>...</td>\n",
       "      <td>0</td>\n",
       "      <td>0</td>\n",
       "      <td>0</td>\n",
       "      <td>0</td>\n",
       "      <td>0</td>\n",
       "      <td>0</td>\n",
       "      <td>35</td>\n",
       "      <td>14</td>\n",
       "      <td>77</td>\n",
       "      <td>0</td>\n",
       "    </tr>\n",
       "    <tr>\n",
       "      <th>4</th>\n",
       "      <td>Beyonder19</td>\n",
       "      <td>422</td>\n",
       "      <td>337</td>\n",
       "      <td>77</td>\n",
       "      <td>8</td>\n",
       "      <td>1364.44000</td>\n",
       "      <td>1</td>\n",
       "      <td>1</td>\n",
       "      <td>0</td>\n",
       "      <td>1</td>\n",
       "      <td>...</td>\n",
       "      <td>0</td>\n",
       "      <td>0</td>\n",
       "      <td>0</td>\n",
       "      <td>0</td>\n",
       "      <td>0</td>\n",
       "      <td>0</td>\n",
       "      <td>17</td>\n",
       "      <td>0</td>\n",
       "      <td>0</td>\n",
       "      <td>0</td>\n",
       "    </tr>\n",
       "  </tbody>\n",
       "</table>\n",
       "<p>5 rows × 106 columns</p>\n",
       "</div>"
      ],
      "text/plain": [
       "           username  total  easy  medium  hard      rating  C++  Java  Python  \\\n",
       "0     sudhanshu_090    561   181     334    46  2100.37400    1     1       0   \n",
       "1   aryansharma1606    426   155     226    45  1509.48800    1     1       0   \n",
       "2  mahadevwardule17    581   165     333    83  2045.53146    1     1       0   \n",
       "3     jamshedmd1111    321    89     166    66  2623.66600    1     0       0   \n",
       "4        Beyonder19    422   337      77     8  1364.44000    1     1       0   \n",
       "\n",
       "   Python3  ...    Reservoir Sampling     Strongly Connected Component  \\\n",
       "0        0  ...                     0                                0   \n",
       "1        0  ...                     0                                0   \n",
       "2        0  ...                     0                                0   \n",
       "3        0  ...                     0                                0   \n",
       "4        1  ...                     0                                0   \n",
       "\n",
       "    Eulerian Circuit    Radix Sort    Rejection Sampling  \\\n",
       "0                  0             0                     0   \n",
       "1                  0             0                     0   \n",
       "2                  0             0                     0   \n",
       "3                  0             0                     0   \n",
       "4                  0             0                     0   \n",
       "\n",
       "     Biconnected Component  contestAttended  streak  totalActiveDays  \\\n",
       "0                        0               32      18              114   \n",
       "1                        0               11       0                0   \n",
       "2                        0               47      11              156   \n",
       "3                        0               35      14               77   \n",
       "4                        0               17       0                0   \n",
       "\n",
       "   OurRating  \n",
       "0          0  \n",
       "1          0  \n",
       "2          0  \n",
       "3          0  \n",
       "4          0  \n",
       "\n",
       "[5 rows x 106 columns]"
      ]
     },
     "execution_count": 31,
     "metadata": {},
     "output_type": "execute_result"
    }
   ],
   "source": [
    "dataset.head()"
   ]
  },
  {
   "cell_type": "code",
   "execution_count": 32,
   "metadata": {},
   "outputs": [],
   "source": [
    "# linear regression\n",
    "from sklearn.linear_model import LinearRegression;\n",
    "from sklearn.model_selection import train_test_split"
   ]
  },
  {
   "cell_type": "code",
   "execution_count": 33,
   "metadata": {},
   "outputs": [],
   "source": [
    "X = dataset.drop(['username','OurRating'],axis=1)\n",
    "y = dataset.iloc[:,-1]"
   ]
  },
  {
   "cell_type": "code",
   "execution_count": 34,
   "metadata": {},
   "outputs": [],
   "source": [
    "X_train, X_test, y_train, y_test = train_test_split(X, y, test_size=0.05, random_state=0)"
   ]
  },
  {
   "cell_type": "code",
   "execution_count": 35,
   "metadata": {},
   "outputs": [
    {
     "name": "stdout",
     "output_type": "stream",
     "text": [
      "1.0\n"
     ]
    }
   ],
   "source": [
    "regr = LinearRegression()\n",
    "regr.fit(X_train,y_train)\n",
    "print(regr.score(X_test,y_test))"
   ]
  },
  {
   "cell_type": "code",
   "execution_count": null,
   "metadata": {},
   "outputs": [],
   "source": []
  },
  {
   "cell_type": "code",
   "execution_count": null,
   "metadata": {},
   "outputs": [],
   "source": [
    "# Randomo Forest Regression"
   ]
  },
  {
   "cell_type": "code",
   "execution_count": 36,
   "metadata": {},
   "outputs": [
    {
     "name": "stdout",
     "output_type": "stream",
     "text": [
      "1.0\n"
     ]
    }
   ],
   "source": [
    "from sklearn.ensemble import RandomForestRegressor\n",
    "rf_regressor = RandomForestRegressor(n_estimators=100, random_state=42)\n",
    "\n",
    "# Train the model\n",
    "rf_regressor.fit(X_train, y_train)\n",
    "print(rf_regressor.score(X_test,y_test))"
   ]
  },
  {
   "cell_type": "code",
   "execution_count": null,
   "metadata": {},
   "outputs": [],
   "source": []
  },
  {
   "cell_type": "code",
   "execution_count": null,
   "metadata": {},
   "outputs": [],
   "source": [
    "\n",
    "#representation"
   ]
  },
  {
   "cell_type": "code",
   "execution_count": 75,
   "metadata": {},
   "outputs": [
    {
     "name": "stdout",
     "output_type": "stream",
     "text": [
      "3.141592653589793\n"
     ]
    },
    {
     "data": {
      "image/png": "[encoded data removed]",
      "text/plain": [
       "<Figure size 432x216 with 1 Axes>"
      ]
     },
     "metadata": {
      "needs_background": "light"
     },
     "output_type": "display_data"
    }
   ],
   "source": [
    "import matplotlib.pyplot as plt\n",
    "import numpy as np\n",
    "\n",
    "# Define the rating value (replace 75 with your actual rating)\n",
    "rating_value = 75\n",
    "\n",
    "# Create a semi-circular gauge\n",
    "fig, ax = plt.subplots(figsize=(6, 3))\n",
    "\n",
    "# Set minimum and maximum values\n",
    "min_value = 0\n",
    "max_value = 100\n",
    "\n",
    "print(np.pi)\n",
    "\n",
    "# Draw a semi-circle representing the gauge\n",
    "theta = np.linspace(0, 2*np.pi, 100)\n",
    "x = np.cos(theta)\n",
    "y = np.sin(theta)\n",
    "ax.plot(x, y, color='black', lw=10, label='Gauge')\n",
    "\n",
    "# Color map for rating arc\n",
    "cmap = plt.cm.coolwarm  # Adjust colormap as desired\n",
    "\n",
    "# Draw an arc representing the rating\n",
    "theta_rating = np.linspace(0, rating_value / 100 * np.pi, 100)\n",
    "x_rating = np.cos(theta_rating)\n",
    "y_rating = np.sin(theta_rating)\n",
    "rating_color = cmap(rating_value / max_value)  # Scale color based on rating\n",
    "ax.plot(x_rating, y_rating, color=rating_color, lw=20, label='Rating')\n",
    "\n",
    "# Set aspect ratio and limits\n",
    "ax.set_aspect('equal', adjustable='box')\n",
    "ax.set_xlim(-1.1, 1.1)\n",
    "ax.set_ylim(0, 1.1)\n",
    "\n",
    "# Hide axes and add labels\n",
    "ax.axis('off')\n",
    "ax.text(-1, 0.9, f\"{min_value}\", ha='left', va='center')\n",
    "ax.text(1, 0.9, f\"{max_value}\", ha='right', va='center')\n",
    "\n",
    "# Add title and legend (optional)\n",
    "plt.title('Semi-Circular Gauge of OurRating')\n",
    "plt.legend()  # Uncomment to show legend\n",
    "\n",
    "# Display rating value\n",
    "rating_text = f\"Rating: {rating_value}%\"\n",
    "ax.text(0, 0.5, rating_text, ha='center', va='center', fontsize=16)\n",
    "\n",
    "plt.show()\n"
   ]
  },
  {
   "cell_type": "code",
   "execution_count": 3,
   "metadata": {},
   "outputs": [],
   "source": [
    "#languages\n",
    "import pandas as pd\n",
    "data = pd.read_csv('Leetcode.csv')"
   ]
  },
  {
   "cell_type": "code",
   "execution_count": 4,
   "metadata": {},
   "outputs": [
    {
     "name": "stdout",
     "output_type": "stream",
     "text": [
      "Selected Row:\n",
      "username                 iAmritSingh\n",
      "total                            207\n",
      "easy                              53\n",
      "medium                           138\n",
      "hard                              16\n",
      "                            ...     \n",
      "Biconnected Component              0\n",
      "contestAttended                    8\n",
      "streak                            11\n",
      "totalActiveDays                   92\n",
      "OurRating                          0\n",
      "Name: 49, Length: 106, dtype: object\n"
     ]
    }
   ],
   "source": [
    "\n",
    "\n",
    "def select_row_by_pandas(filename, condition_column, target_value):\n",
    "  \n",
    "  data = pd.read_csv(filename)\n",
    "  return data[data[condition_column] == target_value].iloc[0] if not data.empty else None\n",
    "\n",
    "# Example Usage (assuming you have a header row)\n",
    "filename = 'Leetcode.csv'\n",
    "condition_column = 'username'  # Assuming 'username' is the column name\n",
    "target_value = 'iAmritSingh'\n",
    "\n",
    "selected_row = select_row_by_pandas(filename, condition_column, target_value)\n",
    "\n",
    "if selected_row is not None:\n",
    "  print(\"Selected Row:\")\n",
    "  print(selected_row)\n",
    "else:\n",
    "  print(\"No row found matching the condition.\")\n"
   ]
  },
  {
   "cell_type": "code",
   "execution_count": 6,
   "metadata": {},
   "outputs": [
    {
     "name": "stdout",
     "output_type": "stream",
     "text": [
      "0\n"
     ]
    }
   ],
   "source": [
    "print(selected_row[-1])"
   ]
  },
  {
   "cell_type": "code",
   "execution_count": null,
   "metadata": {},
   "outputs": [],
   "source": []
  }
 ],
 "metadata": {
  "kernelspec": {
   "display_name": "Python 3",
   "language": "python",
   "name": "python3"
  },
  "language_info": {
   "codemirror_mode": {
    "name": "ipython",
    "version": 3
   },
   "file_extension": ".py",
   "mimetype": "text/x-python",
   "name": "python",
   "nbconvert_exporter": "python",
   "pygments_lexer": "ipython3",
   "version": "3.10.12"
  }
 },
 "nbformat": 4,
 "nbformat_minor": 2
}
