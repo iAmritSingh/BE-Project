{
 "cells": [
  {
   "cell_type": "code",
   "execution_count": 1,
   "id": "fd3b864e",
   "metadata": {},
   "outputs": [],
   "source": [
    "import requests "
   ]
  },
  {
   "cell_type": "code",
   "execution_count": 9,
   "id": "30e50e64",
   "metadata": {},
   "outputs": [],
   "source": [
    "language_query = \"\"\"\n",
    "query languageStats($username: String!) {\n",
    "  matchedUser(username: $username) {\n",
    "    languageProblemCount {\n",
    "      languageName\n",
    "      problemsSolved\n",
    "    }\n",
    "  }\n",
    "}\n",
    "\"\"\""
   ]
  },
  {
   "cell_type": "code",
   "execution_count": null,
   "id": "cbc9da83",
   "metadata": {},
   "outputs": [],
   "source": []
  },
  {
   "cell_type": "code",
   "execution_count": 3,
   "id": "7c524051",
   "metadata": {},
   "outputs": [],
   "source": [
    "problemSolvedQuery = \"\"\"\n",
    "query userProblemsSolved($username: String!) {\n",
    "  matchedUser(username: $username) {\n",
    "    submitStatsGlobal {\n",
    "      acSubmissionNum {\n",
    "        difficulty\n",
    "        count\n",
    "      }\n",
    "    }\n",
    "  }\n",
    "}\n",
    "\"\"\""
   ]
  },
  {
   "cell_type": "code",
   "execution_count": 4,
   "id": "4bc57f9a",
   "metadata": {},
   "outputs": [],
   "source": [
    "contestRanking = \"\"\"\n",
    "query userContestRankingInfo($username: String!) {\n",
    "  userContestRanking(username: $username) {\n",
    "    attendedContestsCount\n",
    "    rating\n",
    "    globalRanking\n",
    "    \n",
    "  }\n",
    " \n",
    "}\n",
    "\"\"\""
   ]
  },
  {
   "cell_type": "code",
   "execution_count": 5,
   "id": "6c0cb190",
   "metadata": {},
   "outputs": [],
   "source": [
    "url = \"https://leetcode.com/graphql\"\n",
    " \n",
    "body = \"\"\"\n",
    "query skillStats($username: String!) {\n",
    "  matchedUser(username: $username) {\n",
    "    tagProblemCounts {\n",
    "      advanced {\n",
    "        \n",
    "        tagName\n",
    "       \n",
    "        problemsSolved\n",
    "\n",
    "       \n",
    "      }\n",
    "      intermediate {\n",
    "       \n",
    "         tagName\n",
    "       \n",
    "        problemsSolved\n",
    "        \n",
    "      }\n",
    "      fundamental {\n",
    "        \n",
    "         tagName\n",
    "       \n",
    "        problemsSolved\n",
    "      \n",
    "      }\n",
    "    }\n",
    "  }\n",
    "}\n",
    "\n",
    "\"\"\"\n",
    "variables = {\"username\": \"iAmritSingh\"}\n",
    "\n",
    " \n",
    "\n"
   ]
  },
  {
   "cell_type": "code",
   "execution_count": 6,
   "id": "67c43a61",
   "metadata": {},
   "outputs": [],
   "source": [
    "body1 = \"\"\"\n",
    "query skillStats($username: String!) {\n",
    "  matchedUser(username: $username) {\n",
    "    tagProblemCounts {\n",
    "      advanced {\n",
    "        problemsSolved\n",
    "      }\n",
    "      intermediate {\n",
    "        problemsSolved\n",
    "      }\n",
    "      fundamental {\n",
    "        problemsSolved\n",
    "      }\n",
    "    }\n",
    "  }\n",
    "}\n",
    "\n",
    "\"\"\""
   ]
  },
  {
   "cell_type": "code",
   "execution_count": 7,
   "id": "b2fe1777",
   "metadata": {},
   "outputs": [],
   "source": [
    "advancedTagslug = []\n",
    "intermediateTagslug = []\n",
    "fundamentalTagslug = []\n",
    "languages = []\n",
    "badges = []\n",
    "activeYears = []\n",
    "advancedTagProblem = []\n",
    "intermediateTagProblem = []\n",
    "fundamentalTagProblem = []"
   ]
  },
  {
   "cell_type": "code",
   "execution_count": 12,
   "id": "7f7ffc72",
   "metadata": {},
   "outputs": [
    {
     "name": "stdout",
     "output_type": "stream",
     "text": [
      "{'data': {'matchedUser': {'languageProblemCount': [{'languageName': 'C++', 'problemsSolved': 207}]}}}\n",
      "[{'languageName': 'C++', 'problemsSolved': 207}]\n",
      "['C++', 'C++', 'C++', 'C++']\n"
     ]
    }
   ],
   "source": [
    "response = requests.get(url=url, json={\"query\": language_query, \"variables\":variables})\n",
    "r = response.json()\n",
    "print(r)\n",
    "r = (r['data']['matchedUser']['languageProblemCount'])\n",
    "print(r)\n",
    "\n",
    "for i in r:\n",
    "    languages.append(i['languageName'])\n",
    "print(languages)\n"
   ]
  },
  {
   "cell_type": "code",
   "execution_count": 18,
   "id": "dcdefebf",
   "metadata": {},
   "outputs": [
    {
     "name": "stdout",
     "output_type": "stream",
     "text": [
      "207\n",
      "53\n",
      "138\n",
      "16\n"
     ]
    }
   ],
   "source": [
    "response = requests.get(url=url, json={\"query\": problemSolvedQuery, \"variables\":variables})\n",
    "r = response.json()\n",
    "total = (r['data']['matchedUser']['submitStatsGlobal']['acSubmissionNum'][0]['count'])\n",
    "easy = (r['data']['matchedUser']['submitStatsGlobal']['acSubmissionNum'][1]['count'])\n",
    "medium = (r['data']['matchedUser']['submitStatsGlobal']['acSubmissionNum'][2]['count'])\n",
    "hard = (r['data']['matchedUser']['submitStatsGlobal']['acSubmissionNum'][3]['count'])\n",
    "print(total)\n",
    "print(easy)\n",
    "print(medium)\n",
    "print(hard)"
   ]
  },
  {
   "cell_type": "code",
   "execution_count": 19,
   "id": "43b811d3",
   "metadata": {},
   "outputs": [
    {
     "name": "stdout",
     "output_type": "stream",
     "text": [
      "8\n",
      "1571.247\n",
      "129010\n"
     ]
    }
   ],
   "source": [
    "response = requests.get(url=url, json={\"query\": contestRanking, \"variables\":variables})\n",
    "r = response.json()\n",
    "contestAttended = r['data']['userContestRanking']['attendedContestsCount']\n",
    "rating = (r['data']['userContestRanking']['rating'])\n",
    "globalRanking = r['data']['userContestRanking']['globalRanking']\n",
    "print(contestAttended)\n",
    "print(rating)\n",
    "print(globalRanking)\n"
   ]
  },
  {
   "cell_type": "code",
   "execution_count": 20,
   "id": "4eb8836e",
   "metadata": {},
   "outputs": [],
   "source": [
    "topic = {\"Array\":0,\n",
    "\"String\":0,\n",
    "\"Hash Table\":0,\n",
    "\"Math\":0,\n",
    "\"Dynamic Programming\":0,\n",
    "\"Sorting\":0,\n",
    "\"Greedy\":0,\n",
    "\"Depth-First Search\":0,\n",
    "\"Binary Search\":0,\n",
    "\"Database\":0,\n",
    "\"Breadth-First Search\":0,\n",
    "\"Tree\":0,\n",
    "\"Matrix\":0,\n",
    "\"Two Pointers\":0,\n",
    "\"Bit Manipulation\":0,\n",
    "\"Binary Tree\":0,\n",
    "\"Heap (Priority Queue)\":0,\n",
    "\"Stack\":0,\n",
    "\"Prefix Sum\":0,\n",
    "\"Simulation\":0,\n",
    "\"Graph\":0,\n",
    "\"Design\":0,\n",
    "\"Counting\":0,\n",
    "\"Sliding Window\":0,\n",
    "\"Backtracking\":0,\n",
    "\"Union Find\":0,\n",
    "\"Enumeration\":0,\n",
    "\"Linked List\":0,\n",
    "\"Ordered Set\":0,\n",
    "\"Monotonic Stack\":0,\n",
    "\"Trie\":0,\n",
    "\"Number Theory\":0,\n",
    "\"Divide and Conquer\":0,\n",
    "\"Recursion\":0,\n",
    "\"Bitmask\":0,\n",
    "\"Queue\":0,\n",
    "\"Binary Search Tree\":0,\n",
    "\"Segment Tree\":0,\n",
    "\"Memoization\":0,\n",
    "\"Hash Function\":0,\n",
    "\"Geometry\":0,\n",
    "\"Binary Indexed Tree\":0,\n",
    "\"Topological Sort\":0,\n",
    "\"String Matching\":0,\n",
    "\"Combinatorics\":0,\n",
    "\"Rolling Hash\":0,\n",
    "\"Shortest Path\":0,\n",
    "\"Game Theory\":0,\n",
    "\"Data Stream\":0,\n",
    "\"Interactive\":0,\n",
    "\"Brainteaser\":0,\n",
    "\"Monotonic Queue\":0,\n",
    "\"Randomized\":0,\n",
    "\"Merge Sort\":0,\n",
    "\"Iterator\":0,\n",
    "\"Concurrency\":0,\n",
    "\"Doubly-Linked List\":0,\n",
    "\"Probability and Statistics\":0,\n",
    "\"Quickselect\":0,\n",
    "\"Bucket Sort\":0,\n",
    "\"Suffix Array\":0,\n",
    "\"Minimum Spanning Tree\":0,\n",
    "\"Counting Sort\":0,\n",
    "\"Shell\":0,\n",
    "\"Line Sweep\":0,\n",
    "\"Reservoir Sampling\":0,\n",
    "\"Strongly Connected Component\":0,\n",
    "\"Eulerian Circuit\":0,\n",
    "\"Radix Sort\":0,\n",
    "\"Rejection Sampling\":0,\n",
    "\"Biconnected Component\":0\n",
    "}"
   ]
  },
  {
   "cell_type": "code",
   "execution_count": 21,
   "id": "8491c525",
   "metadata": {},
   "outputs": [
    {
     "name": "stdout",
     "output_type": "stream",
     "text": [
      "{'data': {'matchedUser': {'tagProblemCounts': {'advanced': [{'tagName': 'Game Theory', 'problemsSolved': 2}, {'tagName': 'Backtracking', 'problemsSolved': 12}, {'tagName': 'Quickselect', 'problemsSolved': 1}, {'tagName': 'Dynamic Programming', 'problemsSolved': 46}, {'tagName': 'Divide and Conquer', 'problemsSolved': 3}, {'tagName': 'Trie', 'problemsSolved': 2}, {'tagName': 'Union Find', 'problemsSolved': 3}, {'tagName': 'Monotonic Stack', 'problemsSolved': 1}, {'tagName': 'Monotonic Queue', 'problemsSolved': 1}, {'tagName': 'Topological Sort', 'problemsSolved': 2}], 'intermediate': [{'tagName': 'Tree', 'problemsSolved': 11}, {'tagName': 'Binary Tree', 'problemsSolved': 10}, {'tagName': 'Hash Table', 'problemsSolved': 39}, {'tagName': 'Graph', 'problemsSolved': 3}, {'tagName': 'Greedy', 'problemsSolved': 30}, {'tagName': 'Binary Search', 'problemsSolved': 26}, {'tagName': 'Depth-First Search', 'problemsSolved': 13}, {'tagName': 'Breadth-First Search', 'problemsSolved': 11}, {'tagName': 'Recursion', 'problemsSolved': 9}, {'tagName': 'Sliding Window', 'problemsSolved': 17}, {'tagName': 'Bit Manipulation', 'problemsSolved': 8}, {'tagName': 'Math', 'problemsSolved': 31}, {'tagName': 'Design', 'problemsSolved': 1}, {'tagName': 'Iterator', 'problemsSolved': 1}], 'fundamental': [{'tagName': 'Array', 'problemsSolved': 138}, {'tagName': 'Matrix', 'problemsSolved': 18}, {'tagName': 'String', 'problemsSolved': 40}, {'tagName': 'Simulation', 'problemsSolved': 11}, {'tagName': 'Enumeration', 'problemsSolved': 5}, {'tagName': 'Sorting', 'problemsSolved': 28}, {'tagName': 'Stack', 'problemsSolved': 7}, {'tagName': 'Queue', 'problemsSolved': 2}, {'tagName': 'Linked List', 'problemsSolved': 3}, {'tagName': 'Two Pointers', 'problemsSolved': 9}]}}}}\n"
     ]
    }
   ],
   "source": [
    "response = requests.get(url=url, json={\"query\": body, \"variables\":variables})\n",
    "r = response.json()\n",
    "print(r)"
   ]
  },
  {
   "cell_type": "code",
   "execution_count": 22,
   "id": "1dbab28f",
   "metadata": {},
   "outputs": [
    {
     "name": "stdout",
     "output_type": "stream",
     "text": [
      "{'Array': 138, 'String': 40, 'Hash Table': 39, 'Math': 31, 'Dynamic Programming': 46, 'Sorting': 28, 'Greedy': 30, 'Depth-First Search': 13, 'Binary Search': 26, 'Database': 0, 'Breadth-First Search': 11, 'Tree': 11, 'Matrix': 18, 'Two Pointers': 9, 'Bit Manipulation': 8, 'Binary Tree': 10, 'Heap (Priority Queue)': 0, 'Stack': 7, 'Prefix Sum': 0, 'Simulation': 11, 'Graph': 3, 'Design': 1, 'Counting': 0, 'Sliding Window': 17, 'Backtracking': 12, 'Union Find': 3, 'Enumeration': 5, 'Linked List': 3, 'Ordered Set': 0, 'Monotonic Stack': 1, 'Trie': 2, 'Number Theory': 0, 'Divide and Conquer': 3, 'Recursion': 9, 'Bitmask': 0, 'Queue': 2, 'Binary Search Tree': 0, 'Segment Tree': 0, 'Memoization': 0, 'Hash Function': 0, 'Geometry': 0, 'Binary Indexed Tree': 0, 'Topological Sort': 2, 'String Matching': 0, 'Combinatorics': 0, 'Rolling Hash': 0, 'Shortest Path': 0, 'Game Theory': 2, 'Data Stream': 0, 'Interactive': 0, 'Brainteaser': 0, 'Monotonic Queue': 1, 'Randomized': 0, 'Merge Sort': 0, 'Iterator': 1, 'Concurrency': 0, 'Doubly-Linked List': 0, 'Probability and Statistics': 0, 'Quickselect': 1, 'Bucket Sort': 0, 'Suffix Array': 0, 'Minimum Spanning Tree': 0, 'Counting Sort': 0, 'Shell': 0, 'Line Sweep': 0, 'Reservoir Sampling': 0, 'Strongly Connected Component': 0, 'Eulerian Circuit': 0, 'Radix Sort': 0, 'Rejection Sampling': 0, 'Biconnected Component': 0}\n"
     ]
    }
   ],
   "source": [
    "a = (r['data']['matchedUser']['tagProblemCounts']['advanced'])\n",
    "\n",
    "for i in a:\n",
    "    topic[i['tagName']] = i['problemsSolved']\n",
    "\n",
    "\n",
    "a = (r['data']['matchedUser']['tagProblemCounts']['intermediate'])\n",
    "for i in a:\n",
    "    topic[i['tagName']] = i['problemsSolved']\n",
    "\n",
    "a = (r['data']['matchedUser']['tagProblemCounts']['fundamental'])\n",
    "for i in a:\n",
    "    topic[i['tagName']] = i['problemsSolved']\n",
    "\n",
    "print(topic)"
   ]
  },
  {
   "cell_type": "code",
   "execution_count": null,
   "id": "2a66245b",
   "metadata": {},
   "outputs": [],
   "source": [
    "\n"
   ]
  },
  {
   "cell_type": "code",
   "execution_count": 23,
   "id": "a09053ec",
   "metadata": {},
   "outputs": [],
   "source": [
    "badgesQuery = \"\"\"\n",
    "query userBadges($username: String!) {\n",
    "  matchedUser(username: $username) {\n",
    "    badges {\n",
    "      \n",
    "     shortName\n",
    "      \n",
    "    }\n",
    "    \n",
    "  }\n",
    "}\n",
    "\"\"\""
   ]
  },
  {
   "cell_type": "code",
   "execution_count": 24,
   "id": "0743c7f9",
   "metadata": {},
   "outputs": [
    {
     "name": "stdout",
     "output_type": "stream",
     "text": [
      "[{'shortName': '50 Days Badge 2023'}, {'shortName': '100 Days Badge 2023'}]\n",
      "[[{'shortName': '50 Days Badge 2023'}, {'shortName': '100 Days Badge 2023'}]]\n"
     ]
    }
   ],
   "source": [
    "response = requests.get(url=url, json={\"query\": badgesQuery, \"variables\":variables})\n",
    "r = response.json()\n",
    "print(r['data']['matchedUser']['badges'])\n",
    "badges.append( r['data']['matchedUser']['badges'])\n",
    "print(badges)"
   ]
  },
  {
   "cell_type": "code",
   "execution_count": 25,
   "id": "04709251",
   "metadata": {},
   "outputs": [],
   "source": [
    "calenderQuery = \"\"\"\n",
    "query userProfileCalendar($username: String!, $year: Int) {\n",
    "  matchedUser(username: $username) {\n",
    "    userCalendar(year: $year) {\n",
    "      activeYears\n",
    "      streak\n",
    "      totalActiveDays\n",
    "      \n",
    "      submissionCalendar\n",
    "    }\n",
    "  }\n",
    "}\n",
    "\"\"\""
   ]
  },
  {
   "cell_type": "code",
   "execution_count": 26,
   "id": "85114385",
   "metadata": {},
   "outputs": [
    {
     "name": "stdout",
     "output_type": "stream",
     "text": [
      "[[2021, 2022, 2023, 2024]]\n"
     ]
    }
   ],
   "source": [
    "response = requests.get(url=url, json={\"query\": calenderQuery, \"variables\":variables})\n",
    "r = response.json()\n",
    "# print(r)\n",
    "activeYears.append(r['data']['matchedUser']['userCalendar']['activeYears'])\n",
    "streak = (r['data']['matchedUser']['userCalendar']['streak'])\n",
    "totalActiveDays = (r['data']['matchedUser']['userCalendar']['totalActiveDays'])\n",
    "print(activeYears)\n",
    "# submissionCalendar = r['data']['matchedUser']['userCalendar']['submissionCalender']\n"
   ]
  },
  {
   "cell_type": "code",
   "execution_count": 27,
   "id": "e81724f1",
   "metadata": {},
   "outputs": [],
   "source": [
    "\n",
    "dict = {'total':total,'easy':easy,'medium':medium,'hard':hard,'rating':rating,'languages':languages,'ranking':globalRanking,\"Array\":topic['Array'],\n",
    "\"String\":topic['String'],\n",
    "\"Hash Table\":topic['Hash Table'],\n",
    "\"Math\":topic['Math'],\n",
    "\"Dynamic Programming\":topic['Dynamic Programming'],\n",
    "\"Sorting\":topic['Sorting'],\n",
    "\"Greedy\":topic['Greedy'],\n",
    "\"Depth-First Search\":topic['Depth-First Search'],\n",
    "\"Binary Search\":topic['Binary Search'],\n",
    "\"Database\":topic['Database'],\n",
    "\"Breadth-First Search\":topic['Breadth-First Search'],\n",
    "\"Tree\":topic['Tree'],\n",
    "\"Matrix\":topic['Matrix'],\n",
    "\"Two Pointers\":topic['Two Pointers'],\n",
    "\"Bit Manipulation\":topic['Bit Manipulation'],\n",
    "\"Binary Tree\":topic['Binary Tree'],\n",
    "\"Heap (Priority Queue)\":topic['Heap (Priority Queue)'],\n",
    "\"Stack\":topic['Stack'],\n",
    "\"Prefix Sum\":topic['Prefix Sum'],\n",
    "\"Simulation\":topic['Simulation'],\n",
    "\"Graph\":topic['Graph'],\n",
    "\"Design\":topic['Design'],\n",
    "\"Counting\":topic['Counting'],\n",
    "\"Sliding Window\":topic['Sliding Window'],\n",
    "\"Backtracking\":topic['Backtracking'],\n",
    "\"Union Find\":topic['Union Find'],\n",
    "\"Enumeration\":topic['Enumeration'],\n",
    "\"Linked List\":topic['Linked List'],\n",
    "\"Ordered Set\":topic['Ordered Set'],\n",
    "\"Monotonic Stack\":topic['Monotonic Stack'],\n",
    "\"Trie\":topic['Trie'],\n",
    "\"Number Theory\":topic['Number Theory'],\n",
    "\"Divide and Conquer\":topic['Divide and Conquer'],\n",
    "\"Recursion\":topic['Recursion'],\n",
    "\"Bitmask\":topic['Bitmask'],\n",
    "\"Queue\":topic['Queue'],\n",
    "\"Binary Search Tree\":topic['Binary Search Tree'],\n",
    "\"Segment Tree\":topic['Segment Tree'],\n",
    "\"Memoization\":topic['Memoization'],\n",
    "\"Hash Function\":topic['Hash Function'],\n",
    "\"Geometry\":topic['Geometry'],\n",
    "\"Binary Indexed Tree\":topic['Binary Indexed Tree'],\n",
    "\"Topological Sort\":topic['Topological Sort'],\n",
    "\"String Matching\":topic['String Matching'],\n",
    "\"Combinatorics\":topic['Array'],\n",
    "\"Rolling Hash\":topic['Rolling Hash'],\n",
    "\"Shortest Path\":topic['Shortest Path'],\n",
    "\"Game Theory\":topic['Game Theory'],\n",
    "\"Data Stream\":topic['Data Stream'],\n",
    "\"Interactive\":topic['Interactive'],\n",
    "\"Brainteaser\":topic['Brainteaser'],\n",
    "\"Monotonic Queue\":topic['Monotonic Queue'],\n",
    "\"Randomized\":topic['Randomized'],\n",
    "\"Merge Sort\":topic['Merge Sort'],\n",
    "\"Iterator\":topic['Iterator'],\n",
    "\"Concurrency\":topic['Concurrency'],\n",
    "\"Doubly-Linked List\":topic['Doubly-Linked List'],\n",
    "\"Probability and Statistics\":topic['Probability and Statistics'],\n",
    "\"Quickselect\":topic['Quickselect'],\n",
    "\"Bucket Sort\":topic['Bucket Sort'],\n",
    "\"Suffix Array\":topic['Suffix Array'],\n",
    "\"Minimum Spanning Tree\":topic['Minimum Spanning Tree'],\n",
    "\"Counting Sort\":topic['Counting Sort'],\n",
    "\"Shell\":topic['Shell'],\n",
    "\"Line Sweep\":topic['Line Sweep'],\n",
    "\"Reservoir Sampling\":topic['Reservoir Sampling'],\n",
    "\"Strongly Connected Component\":topic['Strongly Connected Component'],\n",
    "\"Eulerian Circuit\":topic['Eulerian Circuit'],\n",
    "\"Radix Sort\":topic['Radix Sort'],\n",
    "\"Rejection Sampling\":topic['Rejection Sampling'],\n",
    "\"Biconnected Component\":topic['Biconnected Component'],'contestAttended':contestAttended,'streak':streak,'totalActiveDays':totalActiveDays}\n",
    "\n",
    "# to be add later\n",
    "# 'badges':badges,'activeYears':activeYears,"
   ]
  },
  {
   "cell_type": "code",
   "execution_count": null,
   "id": "58f3eeda",
   "metadata": {},
   "outputs": [],
   "source": []
  },
  {
   "cell_type": "code",
   "execution_count": 28,
   "id": "c77f2213",
   "metadata": {},
   "outputs": [],
   "source": [
    "import pandas as pd\n",
    "df = pd.DataFrame(dict)"
   ]
  },
  {
   "cell_type": "code",
   "execution_count": null,
   "id": "71950889",
   "metadata": {},
   "outputs": [
    {
     "name": "stdout",
     "output_type": "stream",
     "text": [
      "   total  easy  medium  hard       rating languages  ranking  \\\n",
      "0    206    52     138    16  1571.247478       C++   126254   \n",
      "\n",
      "                                            advanced  \\\n",
      "0  [{'tagName': 'Game Theory', 'tagSlug': 'game-t...   \n",
      "\n",
      "                                        intermediate  \\\n",
      "0  [{'tagName': 'Tree', 'tagSlug': 'tree', 'probl...   \n",
      "\n",
      "                                         fundamental  contestAttended  \\\n",
      "0  [{'tagName': 'Array', 'tagSlug': 'array', 'pro...                8   \n",
      "\n",
      "                                              badges  \n",
      "0  [{'shortName': '50 Days Badge 2023'}, {'shortN...  \n"
     ]
    }
   ],
   "source": [
    "print(df)"
   ]
  },
  {
   "cell_type": "code",
   "execution_count": 29,
   "id": "91d83bea",
   "metadata": {},
   "outputs": [],
   "source": [
    "df.to_csv('Leetcode.csv')"
   ]
  },
  {
   "cell_type": "code",
   "execution_count": null,
   "id": "19240b31",
   "metadata": {},
   "outputs": [],
   "source": []
  },
  {
   "cell_type": "code",
   "execution_count": null,
   "id": "b79b6b89",
   "metadata": {},
   "outputs": [],
   "source": []
  },
  {
   "cell_type": "code",
   "execution_count": null,
   "id": "2440fa4d",
   "metadata": {},
   "outputs": [],
   "source": []
  }
 ],
 "metadata": {
  "kernelspec": {
   "display_name": "Python 3 (ipykernel)",
   "language": "python",
   "name": "python3"
  },
  "language_info": {
   "codemirror_mode": {
    "name": "ipython",
    "version": 3
   },
   "file_extension": ".py",
   "mimetype": "text/x-python",
   "name": "python",
   "nbconvert_exporter": "python",
   "pygments_lexer": "ipython3",
   "version": "3.10.12"
  }
 },
 "nbformat": 4,
 "nbformat_minor": 5
}
